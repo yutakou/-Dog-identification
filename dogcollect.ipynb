{
  "cells": [
    {
      "cell_type": "markdown",
      "metadata": {
        "id": "view-in-github",
        "colab_type": "text"
      },
      "source": [
        "<a href=\"https://colab.research.google.com/github/yutakou/Dog-identification/blob/main/dogcollect.ipynb\" target=\"_parent\"><img src=\"https://colab.research.google.com/assets/colab-badge.svg\" alt=\"Open In Colab\"/></a>"
      ]
    },
    {
      "cell_type": "code",
      "execution_count": null,
      "metadata": {
        "colab": {
          "base_uri": "https://localhost:8080/"
        },
        "id": "kHRb3kqPSm8x",
        "outputId": "c0a9da17-ca60-4a1c-8fe7-b37cd7d664bf"
      },
      "outputs": [
        {
          "output_type": "stream",
          "name": "stdout",
          "text": [
            "Mounted at /content/drive\n"
          ]
        }
      ],
      "source": [
        "#ドライブをマウントする\n",
        "from google.colab import drive\n",
        "drive.mount('/content/drive')"
      ]
    },
    {
      "cell_type": "code",
      "execution_count": null,
      "metadata": {
        "colab": {
          "base_uri": "https://localhost:8080/"
        },
        "id": "E6Y2A5EiSyVk",
        "outputId": "190f7b36-0240-4a11-add9-db6678ab805f"
      },
      "outputs": [
        {
          "output_type": "stream",
          "name": "stdout",
          "text": [
            "/content/drive/My Drive/Google Colab\n"
          ]
        }
      ],
      "source": [
        "#カレントディレクトリに移動\n",
        "%cd \"/content/drive/My Drive/Google Colab\""
      ]
    },
    {
      "cell_type": "code",
      "execution_count": null,
      "metadata": {
        "id": "7Mp7bMdpS06w"
      },
      "outputs": [],
      "source": [
        "!pip install selenium"
      ]
    },
    {
      "cell_type": "code",
      "execution_count": null,
      "metadata": {
        "id": "6Y_l0PPOS7lb"
      },
      "outputs": [],
      "source": [
        "!apt install chromium-chromedriver"
      ]
    },
    {
      "cell_type": "code",
      "execution_count": null,
      "metadata": {
        "id": "UahbH-pfTXwP"
      },
      "outputs": [],
      "source": [
        "import requests\n",
        "from selenium import webdriver\n",
        "from selenium.webdriver.chrome.options import Options\n",
        "import os\n",
        "import time\n",
        "import datetime\n",
        "from selenium.common.exceptions import NoSuchElementException\n",
        "from selenium.common.exceptions import ElementClickInterceptedException\n",
        " \n",
        "tm_start = time.time()            #処理時間計測用\n",
        "dt_now = datetime.datetime.now()  # 現在日時\n",
        "dt_date_str = dt_now.strftime('%Y/%m/%d %H:%M')\n",
        "print(dt_date_str)\n",
        " \n",
        "QUERY = 'トイプードル'                # 検索ワード\n",
        "LIMIT_DL_NUM = 100                      # ダウンロード数の上限\n",
        "SAVE_DIR = 'img/toipu_'                  # 出力フォルダへのパス（フォルダがない場合は自動生成する）\n",
        "FILE_NAME = 'toipu_'                     # ファイル名（ファイル名の後ろに０からの連番と拡張子が付く）\n",
        "TIMEOUT = 60                                # 要素検索のタイムアウト（秒）\n",
        "ACCESS_WAIT = 1                             # アクセスする間隔（秒）\n",
        "RETRY_NUM = 3                               # リトライ回数（クリック、requests）\n",
        "DRIVER_PATH = '/usr/bin/chromedriver'       # chromedriver.exeへのパス\n",
        " \n",
        "# Chromeをヘッドレスモードで起動\n",
        "options = Options()\n",
        "options.add_argument('--headless')\n",
        "options.add_argument('--no-sandbox')\n",
        "options.add_argument('--disable-dev-shm-usage')\n",
        "options.add_argument('--start-fullscreen')\n",
        "options.add_argument('--disable-plugins')\n",
        "options.add_argument('--disable-extensions')\n",
        "driver = webdriver.Chrome(DRIVER_PATH, options=options)\n",
        " \n",
        "# タイムアウト設定\n",
        "driver.implicitly_wait(TIMEOUT)\n",
        " \n",
        "tm_driver = time.time()\n",
        "print('WebDriver起動完了', f'{tm_driver - tm_start:.1f}s')\n",
        " \n",
        "# Google画像検索ページを取得\n",
        "url = f'https://www.google.com/search?q={QUERY}&tbm=isch'\n",
        "driver.get(url)\n",
        " \n",
        "tm_geturl = time.time()\n",
        "print('Google画像検索ページ取得', f'{tm_geturl - tm_driver:.1f}s')\n",
        " \n",
        "tmb_elems = driver.find_elements_by_css_selector('#islmp img')\n",
        "tmb_alts = [tmb.get_attribute('alt') for tmb in tmb_elems]\n",
        " \n",
        "count = len(tmb_alts) - tmb_alts.count('')\n",
        "print(count)\n",
        " \n",
        "while count < LIMIT_DL_NUM:\n",
        "    # ページの一番下へスクロールして新しいサムネイル画像を表示させる\n",
        "    driver.execute_script('window.scrollTo(0, document.body.scrollHeight);')\n",
        "    time.sleep(1)\n",
        " \n",
        "    # サムネイル画像取得\n",
        "    tmb_elems = driver.find_elements_by_css_selector('#islmp img')\n",
        "    tmb_alts = [tmb.get_attribute('alt') for tmb in tmb_elems]\n",
        " \n",
        "    count = len(tmb_alts) - tmb_alts.count('')\n",
        "    print(count)  \n",
        " \n",
        "# サムネイル画像をクリックすると表示される領域を取得\n",
        "imgframe_elem = driver.find_element_by_id('islsp')\n",
        " \n",
        "# 出力フォルダ作成\n",
        "os.makedirs(SAVE_DIR, exist_ok=True)\n",
        " \n",
        "# HTTPヘッダ作成\n",
        "HTTP_HEADERS = {'User-Agent': driver.execute_script('return navigator.userAgent;')}\n",
        "print(HTTP_HEADERS)           \n",
        "            \n",
        "# ダウンロード対象のファイル拡張子\n",
        "IMG_EXTS = ('.jpg', '.jpeg', '.png', '.gif')\n",
        " \n",
        "# 拡張子を取得\n",
        "def get_extension(url):\n",
        "    url_lower = url.lower()\n",
        "    for img_ext in IMG_EXTS:\n",
        "        if img_ext in url_lower:\n",
        "            extension = '.jpg' if img_ext == '.jpeg' else img_ext\n",
        "            break\n",
        "    else:\n",
        "        extension = ''\n",
        "    return extension\n",
        " \n",
        "# urlの画像を取得しファイルへ書き込む\n",
        "def download_image(url, path, loop):\n",
        "    result = False\n",
        "    for i in range(loop):\n",
        "        try:\n",
        "            r = requests.get(url, headers=HTTP_HEADERS, stream=True, timeout=10)\n",
        "            r.raise_for_status()\n",
        "            with open(path, 'wb') as f:\n",
        "                f.write(r.content)\n",
        "\n",
        "        except requests.exceptions.SSLError:\n",
        "            print('***** SSL エラー')\n",
        "            break  # リトライしない\n",
        "        except requests.exceptions.RequestException as e:\n",
        "            print(f'***** requests エラー({e}): {i + 1}/{RETRY_NUM}')\n",
        "            time.sleep(1)\n",
        "        else:\n",
        "            result = True\n",
        "            break  # try成功\n",
        "    return result\n",
        " \n",
        "tm_thumbnails = time.time()\n",
        "print('サムネイル画像取得', f'{tm_thumbnails - tm_geturl:.1f}s')\n",
        " \n",
        "# ダウンロード\n",
        "EXCLUSION_URL = 'https://lh3.googleusercontent.com/'  # 除外対象url\n",
        "count = 0\n",
        "url_list = []\n",
        "for tmb_elem, tmb_alt in zip(tmb_elems, tmb_alts):\n",
        "     \n",
        "    if tmb_alt == '':\n",
        "        continue\n",
        " \n",
        "    print(f'{count}: {tmb_alt}')\n",
        " \n",
        "    for i in range(RETRY_NUM):\n",
        "        try:\n",
        "            # サムネイル画像をクリック\n",
        "            tmb_elem.click()\n",
        "        except ElementClickInterceptedException:\n",
        "            print(f'***** click エラー: {i + 1}/{RETRY_NUM}')\n",
        "            driver.execute_script('arguments[0].scrollIntoView(true);', tmb_elem)\n",
        "            time.sleep(1)\n",
        "        else:\n",
        "            break  # try成功\n",
        "    else:\n",
        "        print('***** キャンセル')\n",
        "        continue  # リトライ失敗\n",
        "         \n",
        "    # アクセス負荷軽減用のウェイト\n",
        "    time.sleep(ACCESS_WAIT)\n",
        "     \n",
        "    alt = tmb_alt.replace(\"'\", \"\\\\'\")\n",
        "    try:\n",
        "        img_elem = imgframe_elem.find_element_by_css_selector(f'img[alt=\\'{alt}\\']')\n",
        "    except NoSuchElementException:\n",
        "        print('***** img要素検索エラー')\n",
        "        print('***** キャンセル')\n",
        "        continue\n",
        " \n",
        "    # url取得\n",
        "    tmb_url = tmb_elem.get_attribute('src')  # サムネイル画像のsrc属性値\n",
        " \n",
        "    for i in range(RETRY_NUM):\n",
        "        url = img_elem.get_attribute('src')\n",
        "        if EXCLUSION_URL in url:\n",
        "            print('***** 除外対象url')\n",
        "            url = ''\n",
        "            break\n",
        "        elif url == tmb_url:  # src属性値が遷移するまでリトライ\n",
        "            print(f'***** urlチェック: {i + 1}/{RETRY_NUM}')\n",
        "            time.sleep(1)\n",
        "            url = ''\n",
        "        else:\n",
        "            break\n",
        " \n",
        "    if url == '':\n",
        "        print('***** キャンセル')\n",
        "        continue\n",
        " \n",
        "    # 画像を取得しファイルへ保存\n",
        "    ext = get_extension(url)\n",
        "    if ext == '':\n",
        "        print(f'***** urlに拡張子が含まれていないのでキャンセル')\n",
        "        print(f'{url}')\n",
        "        continue\n",
        " \n",
        "    filename = f'{FILE_NAME}{count}{ext}'\n",
        "    path = SAVE_DIR + '/' + filename\n",
        "    result = download_image(url, path, RETRY_NUM)\n",
        "    if result == False:\n",
        "        print('***** キャンセル')\n",
        "        continue\n",
        "    url_list.append(f'{filename}: {url}')\n",
        " \n",
        "    # ダウンロード数の更新と終了判定\n",
        "    count += 1\n",
        "    if count >= LIMIT_DL_NUM:\n",
        "        break\n",
        " \n",
        "tm_end = time.time()\n",
        "print('ダウンロード', f'{tm_end - tm_thumbnails:.1f}s')\n",
        "print('------------------------------------')\n",
        "total = tm_end - tm_start\n",
        "total_str = f'トータル時間: {total:.1f}s({total/60:.2f}min)'\n",
        "count_str = f'ダウンロード数: {count}'\n",
        "print(total_str)\n",
        "print(count_str)\n",
        " \n",
        "# urlをファイルへ保存\n",
        "path = SAVE_DIR + '/url/' + '_url.txt'\n",
        "with open(path, 'w', encoding='utf-5') as f:\n",
        "    f.write(dt_date_str + '\\n')\n",
        "    f.write(total_str + '\\n')\n",
        "    f.write(count_str + '\\n')\n",
        "    f.write('\\n'.join(url_list))\n",
        "\n",
        "driver.quit()"
      ]
    }
  ],
  "metadata": {
    "accelerator": "GPU",
    "colab": {
      "collapsed_sections": [],
      "name": "dogcollect.ipynb",
      "provenance": [],
      "authorship_tag": "ABX9TyOiM3ELOa/zI38rNU8gb68c",
      "include_colab_link": true
    },
    "kernelspec": {
      "display_name": "Python 3",
      "name": "python3"
    },
    "language_info": {
      "name": "python"
    }
  },
  "nbformat": 4,
  "nbformat_minor": 0
}